{
 "cells": [
  {
   "cell_type": "markdown",
   "metadata": {},
   "source": [
    "Warm Up- Numpy and Functions\n",
    "Create a new .py file called number_finder.\n",
    "\n",
    "In the number_finder.py file create 2 functions. The first function (called prime_finder) will select only the prime #'s from a given numpy array. The second function (called fibonacci_finder) will select only the Fibonacci numbers from a given numpy array.\n",
    "\n",
    "Now open a new jupyter notebook.\n",
    "\n",
    "In your jupyter notebook import number_finder.\n",
    "\n",
    "Next create an array called numbers that contains 100 random numbers.\n",
    "\n",
    "Apply both number_finder functions to the array you created to find the prime and fibonacci numbers contained in your array.\n",
    "\n",
    "BONUS\n",
    "\n",
    "Create an additional function to find the tribonacci numbers in your array."
   ]
  },
  {
   "cell_type": "code",
   "execution_count": 1,
   "metadata": {},
   "outputs": [],
   "source": [
    "%load_ext autoreload\n",
    "%autoreload 2"
   ]
  },
  {
   "cell_type": "code",
   "execution_count": 2,
   "metadata": {},
   "outputs": [],
   "source": [
    "import numpy as np\n",
    "import number_finder as nf"
   ]
  },
  {
   "cell_type": "code",
   "execution_count": 3,
   "metadata": {},
   "outputs": [
    {
     "data": {
      "text/plain": [
       "array([1, 2, 3, 4, 5, 6, 7, 9])"
      ]
     },
     "execution_count": 3,
     "metadata": {},
     "output_type": "execute_result"
    }
   ],
   "source": [
    "a = np.array([1,2,3,4,5,6,7, 9])\n",
    "a"
   ]
  },
  {
   "cell_type": "code",
   "execution_count": 4,
   "metadata": {},
   "outputs": [
    {
     "data": {
      "text/plain": [
       "array([2, 3, 5, 7])"
      ]
     },
     "execution_count": 4,
     "metadata": {},
     "output_type": "execute_result"
    }
   ],
   "source": [
    "nf.prime_finder(a)"
   ]
  },
  {
   "cell_type": "code",
   "execution_count": 5,
   "metadata": {},
   "outputs": [
    {
     "data": {
      "text/plain": [
       "array([2, 3, 5, 7])"
      ]
     },
     "execution_count": 5,
     "metadata": {},
     "output_type": "execute_result"
    }
   ],
   "source": [
    "nf.prime_finder(a)"
   ]
  },
  {
   "cell_type": "code",
   "execution_count": 6,
   "metadata": {},
   "outputs": [],
   "source": [
    "fib = [0,1,1,2,3,4,4,8,1,9]"
   ]
  },
  {
   "cell_type": "code",
   "execution_count": 19,
   "metadata": {},
   "outputs": [
    {
     "data": {
      "text/plain": [
       "array([ 2,  4, 11])"
      ]
     },
     "execution_count": 19,
     "metadata": {},
     "output_type": "execute_result"
    }
   ],
   "source": [
    "tri = [0,1,1,2, 4,5,11]\n",
    "nf.tribonacci_finder(tri)"
   ]
  },
  {
   "cell_type": "code",
   "execution_count": 8,
   "metadata": {},
   "outputs": [
    {
     "data": {
      "text/plain": [
       "array([1, 2, 3, 8, 9])"
      ]
     },
     "execution_count": 8,
     "metadata": {},
     "output_type": "execute_result"
    }
   ],
   "source": [
    "nf.fibonacci_finder(fib)"
   ]
  },
  {
   "cell_type": "code",
   "execution_count": 13,
   "metadata": {},
   "outputs": [],
   "source": [
    "rand_array = np.random.randint(low=1, high=100, size=1000)"
   ]
  },
  {
   "cell_type": "code",
   "execution_count": 14,
   "metadata": {},
   "outputs": [
    {
     "data": {
      "text/plain": [
       "array([ 5, 41, 79,  7, 31, 29, 53, 47, 89, 23, 43,  5, 17, 97, 13, 73, 73,\n",
       "       11, 61, 97, 73, 59, 19, 13,  3, 71, 53,  5, 53, 23, 17, 29, 79, 31,\n",
       "        3, 89, 43, 37,  3, 43, 47, 67, 13, 97,  7, 47, 43, 79, 71, 79, 67,\n",
       "        5, 83,  7, 41, 13, 13, 53, 37, 61, 43, 71, 37, 97, 37, 71, 23, 97,\n",
       "       41, 53,  5, 29, 43, 53, 83, 47, 53, 11, 53, 41, 47, 67,  5, 83, 17,\n",
       "       43, 29, 41, 37, 43,  7, 23, 59,  2, 19, 23, 61, 97, 83, 79, 47, 29,\n",
       "       79, 17, 89, 31, 61,  2, 31, 19, 31, 89, 97, 19, 13, 19, 89, 79, 71,\n",
       "       59, 13,  7, 71, 59, 31, 19, 41,  3, 11,  5, 41, 17, 59, 19, 89, 23,\n",
       "       53, 13, 13, 73, 61, 23, 17, 61, 59, 17, 53, 11, 89, 73, 43, 61,  5,\n",
       "       41, 31,  3, 97, 73, 97, 79, 19, 31, 47, 17, 67, 17, 89, 37, 41,  3,\n",
       "       29, 47, 53, 59, 97,  2, 83, 13, 89, 23, 13, 61, 59,  5, 29, 59, 59,\n",
       "       97, 61, 43,  3, 11,  7, 43, 71,  2, 47,  5, 23, 47, 11, 17, 17, 61,\n",
       "       13,  5, 11, 71, 31,  7, 71,  7, 73, 43,  7, 19, 31, 11, 53, 79, 31,\n",
       "       41,  5, 73, 13, 53, 47, 53, 47, 29,  3, 89, 41, 67, 61, 31, 13, 61,\n",
       "        2, 89, 79,  7, 59, 31, 31, 31,  7, 79, 73,  2, 11, 13, 61, 29, 53,\n",
       "       17, 83, 29, 73, 61,  3,  5,  5, 71,  7, 41, 61, 71, 89, 17, 79, 29,\n",
       "       53, 41, 11, 23])"
      ]
     },
     "execution_count": 14,
     "metadata": {},
     "output_type": "execute_result"
    }
   ],
   "source": [
    "nf.prime_finder(rand_array)"
   ]
  },
  {
   "cell_type": "code",
   "execution_count": 15,
   "metadata": {},
   "outputs": [
    {
     "data": {
      "text/plain": [
       "array([ 9, 84, 66])"
      ]
     },
     "execution_count": 15,
     "metadata": {},
     "output_type": "execute_result"
    }
   ],
   "source": [
    "nf.fibonacci_finder(rand_array)"
   ]
  },
  {
   "cell_type": "code",
   "execution_count": 20,
   "metadata": {},
   "outputs": [],
   "source": [
    "tri_rand_array = np.random.randint(low=1, high=100, size=1000)"
   ]
  },
  {
   "cell_type": "code",
   "execution_count": 21,
   "metadata": {},
   "outputs": [
    {
     "data": {
      "text/plain": [
       "array([78, 85])"
      ]
     },
     "execution_count": 21,
     "metadata": {},
     "output_type": "execute_result"
    }
   ],
   "source": [
    "nf.tribonacci_finder(tri_rand_array)"
   ]
  },
  {
   "cell_type": "code",
   "execution_count": null,
   "metadata": {},
   "outputs": [],
   "source": []
  }
 ],
 "metadata": {
  "kernelspec": {
   "display_name": "Python [conda env:learn-env] *",
   "language": "python",
   "name": "conda-env-learn-env-py"
  },
  "language_info": {
   "codemirror_mode": {
    "name": "ipython",
    "version": 3
   },
   "file_extension": ".py",
   "mimetype": "text/x-python",
   "name": "python",
   "nbconvert_exporter": "python",
   "pygments_lexer": "ipython3",
   "version": "3.6.6"
  }
 },
 "nbformat": 4,
 "nbformat_minor": 2
}
