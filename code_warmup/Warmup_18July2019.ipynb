{
 "cells": [
  {
   "cell_type": "code",
   "execution_count": 10,
   "metadata": {},
   "outputs": [
    {
     "data": {
      "text/plain": [
       "1"
      ]
     },
     "execution_count": 10,
     "metadata": {},
     "output_type": "execute_result"
    }
   ],
   "source": [
    "# Question 1\n",
    "nums = [2, 9, 11, 15, 9]\n",
    "nums.index(9)"
   ]
  },
  {
   "cell_type": "code",
   "execution_count": 4,
   "metadata": {},
   "outputs": [
    {
     "name": "stdout",
     "output_type": "stream",
     "text": [
      "9\n",
      "[1, 4]\n"
     ]
    }
   ],
   "source": [
    "target = int(input())\n",
    "index_list = []\n",
    "for i, num in enumerate(nums):\n",
    "    if num == target:\n",
    "        index_list.append(i)\n",
    "print(index_list)"
   ]
  },
  {
   "cell_type": "code",
   "execution_count": 23,
   "metadata": {},
   "outputs": [],
   "source": [
    "# Question 2\n",
    "nums = [2, 7, 2, 15, 2]"
   ]
  },
  {
   "cell_type": "code",
   "execution_count": 24,
   "metadata": {},
   "outputs": [
    {
     "name": "stdout",
     "output_type": "stream",
     "text": [
      "[[0, 1], [1, 2], [1, 4]]\n"
     ]
    }
   ],
   "source": [
    "target = 9\n",
    "index_list = []\n",
    "for o, onum in enumerate(nums):\n",
    "    for i, inum in enumerate(nums):\n",
    "        if i <= o: continue\n",
    "        #print(o,i, nums[o], nums[i]) # for debugging\n",
    "        if nums[o] + nums[i] == target:\n",
    "            index_list.append([o, i])\n",
    "print(index_list)"
   ]
  },
  {
   "cell_type": "code",
   "execution_count": 34,
   "metadata": {},
   "outputs": [],
   "source": [
    "# Question 3: only 1 loop and use dict.\n",
    "nums = [2, 7, 2, 15, 2]\n",
    "target = 9"
   ]
  },
  {
   "cell_type": "code",
   "execution_count": 35,
   "metadata": {},
   "outputs": [
    {
     "name": "stdout",
     "output_type": "stream",
     "text": [
      "[[0, 1], [1, 2], [1, 4]]\n"
     ]
    }
   ],
   "source": [
    "sums = {}\n",
    "index_list = []\n",
    "for i, num in enumerate(nums):\n",
    "    sums[num] = i\n",
    "    need = target - num\n",
    "    if isinstance(sums.get(need), int):\n",
    "        index_list.append([sums.get(need), i])\n",
    "print(index_list)"
   ]
  },
  {
   "cell_type": "code",
   "execution_count": null,
   "metadata": {},
   "outputs": [],
   "source": []
  }
 ],
 "metadata": {
  "kernelspec": {
   "display_name": "Python [conda env:learn-env] *",
   "language": "python",
   "name": "conda-env-learn-env-py"
  },
  "language_info": {
   "codemirror_mode": {
    "name": "ipython",
    "version": 3
   },
   "file_extension": ".py",
   "mimetype": "text/x-python",
   "name": "python",
   "nbconvert_exporter": "python",
   "pygments_lexer": "ipython3",
   "version": "3.6.6"
  }
 },
 "nbformat": 4,
 "nbformat_minor": 2
}
