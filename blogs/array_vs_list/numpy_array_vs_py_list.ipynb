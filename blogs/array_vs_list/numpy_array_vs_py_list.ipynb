{
 "cells": [
  {
   "cell_type": "code",
   "execution_count": 9,
   "metadata": {
    "scrolled": true
   },
   "outputs": [
    {
     "name": "stderr",
     "output_type": "stream",
     "text": [
      "  0%|          | 0/11 [00:00<?, ?it/s]\n",
      "  0%|          | 0/2 [00:00<?, ?it/s]\u001b[A\n",
      " 50%|█████     | 1/2 [00:00<00:00,  8.91it/s]\u001b[A\n",
      "  9%|▉         | 1/11 [00:00<00:05,  1.87it/s][A\n",
      "  0%|          | 0/2 [00:00<?, ?it/s]\u001b[A\n",
      " 50%|█████     | 1/2 [00:00<00:00,  4.39it/s]\u001b[A\n",
      " 18%|█▊        | 2/11 [00:01<00:06,  1.31it/s][A\n",
      "  0%|          | 0/2 [00:00<?, ?it/s]\u001b[A\n",
      " 50%|█████     | 1/2 [00:00<00:00,  3.06it/s]\u001b[A\n",
      " 27%|██▋       | 3/11 [00:03<00:08,  1.05s/it][A\n",
      "  0%|          | 0/2 [00:00<?, ?it/s]\u001b[A\n",
      " 50%|█████     | 1/2 [00:00<00:00,  2.83it/s]\u001b[A\n",
      " 36%|███▋      | 4/11 [00:05<00:09,  1.34s/it][A\n",
      "  0%|          | 0/2 [00:00<?, ?it/s]\u001b[A\n",
      " 50%|█████     | 1/2 [00:00<00:00,  2.47it/s]\u001b[A\n",
      " 45%|████▌     | 5/11 [00:07<00:09,  1.58s/it][A\n",
      "  0%|          | 0/2 [00:00<?, ?it/s]\u001b[A\n",
      " 50%|█████     | 1/2 [00:00<00:00,  2.44it/s]\u001b[A\n",
      " 55%|█████▍    | 6/11 [00:10<00:09,  1.91s/it][A\n",
      "  0%|          | 0/2 [00:00<?, ?it/s]\u001b[A\n",
      " 50%|█████     | 1/2 [00:00<00:00,  2.43it/s]\u001b[A\n",
      " 64%|██████▎   | 7/11 [00:13<00:08,  2.12s/it][A\n",
      "  0%|          | 0/2 [00:00<?, ?it/s]\u001b[A\n",
      " 50%|█████     | 1/2 [00:00<00:00,  2.44it/s]\u001b[A\n",
      " 73%|███████▎  | 8/11 [00:15<00:07,  2.37s/it][A\n",
      "  0%|          | 0/2 [00:00<?, ?it/s]\u001b[A\n",
      " 50%|█████     | 1/2 [00:00<00:00,  2.43it/s]\u001b[A\n",
      " 82%|████████▏ | 9/11 [00:20<00:05,  2.92s/it][A\n",
      "  0%|          | 0/2 [00:00<?, ?it/s]\u001b[A\n",
      " 50%|█████     | 1/2 [00:00<00:00,  1.51it/s]\u001b[A\n",
      " 91%|█████████ | 10/11 [00:24<00:03,  3.30s/it]A\n",
      "  0%|          | 0/2 [00:00<?, ?it/s]\u001b[A\n",
      " 50%|█████     | 1/2 [00:00<00:00,  1.59it/s]\u001b[A\n",
      "100%|██████████| 11/11 [00:29<00:00,  3.73s/it]A\n"
     ]
    }
   ],
   "source": [
    "#!pip install perfplot\n",
    "import numpy as np\n",
    "import pandas as pd\n",
    "import perfplot\n",
    "np.random.seed(120)\n",
    "\n",
    "def np_add(x):\n",
    "    np_array = x['np']\n",
    "    return np_array + 10\n",
    "\n",
    "def py_add(x):\n",
    "    py_list = x['py']\n",
    "    return [i+10 for i in py_list]\n",
    "\n",
    "def setup(n):\n",
    "    np_array = np.array(range(n))\n",
    "    py_list = list(range(n))\n",
    "    return {'np': np_array, 'py': py_list}\n",
    "\n",
    "out = perfplot.bench(\n",
    "    setup=setup,\n",
    "    kernels=[np_add, py_add],\n",
    "    n_range=[i for i in range(100,10000101, 1000000)],\n",
    "    logx=False,\n",
    "    logy=False,\n",
    "    equality_check=False,\n",
    "    xlabel='Num of Elements in List/Array',\n",
    "    title='Numpy Array vs Python List')\n",
    "\n"
   ]
  },
  {
   "cell_type": "code",
   "execution_count": 10,
   "metadata": {},
   "outputs": [
    {
     "data": {
      "image/png": "[encoded data removed]",
      "text/plain": [
       "<Figure size 432x288 with 1 Axes>"
      ]
     },
     "metadata": {
      "needs_background": "light"
     },
     "output_type": "display_data"
    }
   ],
   "source": [
    "out.show()\n",
    "out.save('np_array_vs_py_list.png')"
   ]
  },
  {
   "cell_type": "code",
   "execution_count": null,
   "metadata": {},
   "outputs": [],
   "source": []
  }
 ],
 "metadata": {
  "kernelspec": {
   "display_name": "Python [conda env:learn-env] *",
   "language": "python",
   "name": "conda-env-learn-env-py"
  },
  "language_info": {
   "codemirror_mode": {
    "name": "ipython",
    "version": 3
   },
   "file_extension": ".py",
   "mimetype": "text/x-python",
   "name": "python",
   "nbconvert_exporter": "python",
   "pygments_lexer": "ipython3",
   "version": "3.6.6"
  }
 },
 "nbformat": 4,
 "nbformat_minor": 2
}
